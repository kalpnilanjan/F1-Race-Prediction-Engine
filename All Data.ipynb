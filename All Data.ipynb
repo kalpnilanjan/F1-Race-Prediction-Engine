{
 "cells": [
  {
   "cell_type": "code",
   "execution_count": null,
   "metadata": {},
   "outputs": [],
   "source": [
    "import pandas as pd\n",
    "import numpy as np\n",
    "from sklearn.model_selection import train_test_split"
   ]
  },
  {
   "cell_type": "code",
   "execution_count": 2,
   "metadata": {},
   "outputs": [],
   "source": [
    "races_df = pd.read_csv(\"races.csv\", header=[0], encoding=\"ISO-8859-1\")\n",
    "qualifying_df = pd.read_csv(\"qualifying.csv\", header=[0], encoding=\"ISO-8859-1\")\n",
    "driver_standings_df = pd.read_csv(\"driver_standings.csv\", header=[0], encoding=\"ISO-8859-1\")\n",
    "constructor_standings_df = pd.read_csv(\"constructor_standings.csv\", header=[0], encoding=\"ISO-8859-1\")\n",
    "driver_results_df = pd.read_csv(\"results.csv\", header=[0], encoding=\"ISO-8859-1\")\n",
    "constructor_results_df = pd.read_csv(\"constructor_results.csv\", header=[0], encoding=\"ISO-8859-1\")"
   ]
  },
  {
   "cell_type": "code",
   "execution_count": 3,
   "metadata": {},
   "outputs": [
    {
     "name": "stdout",
     "output_type": "stream",
     "text": [
      "RACES\n",
      " Shape: (1018, 4) and Unique RaceIds: (1018,)\n"
     ]
    },
    {
     "data": {
      "text/html": [
       "<div>\n",
       "<style scoped>\n",
       "    .dataframe tbody tr th:only-of-type {\n",
       "        vertical-align: middle;\n",
       "    }\n",
       "\n",
       "    .dataframe tbody tr th {\n",
       "        vertical-align: top;\n",
       "    }\n",
       "\n",
       "    .dataframe thead th {\n",
       "        text-align: right;\n",
       "    }\n",
       "</style>\n",
       "<table border=\"1\" class=\"dataframe\">\n",
       "  <thead>\n",
       "    <tr style=\"text-align: right;\">\n",
       "      <th></th>\n",
       "      <th>RaceId</th>\n",
       "      <th>Year</th>\n",
       "      <th>Round</th>\n",
       "      <th>CircuitId</th>\n",
       "    </tr>\n",
       "  </thead>\n",
       "  <tbody>\n",
       "    <tr>\n",
       "      <td>832</td>\n",
       "      <td>833</td>\n",
       "      <td>1950</td>\n",
       "      <td>1</td>\n",
       "      <td>9</td>\n",
       "    </tr>\n",
       "    <tr>\n",
       "      <td>833</td>\n",
       "      <td>834</td>\n",
       "      <td>1950</td>\n",
       "      <td>2</td>\n",
       "      <td>6</td>\n",
       "    </tr>\n",
       "    <tr>\n",
       "      <td>834</td>\n",
       "      <td>835</td>\n",
       "      <td>1950</td>\n",
       "      <td>3</td>\n",
       "      <td>19</td>\n",
       "    </tr>\n",
       "    <tr>\n",
       "      <td>835</td>\n",
       "      <td>836</td>\n",
       "      <td>1950</td>\n",
       "      <td>4</td>\n",
       "      <td>66</td>\n",
       "    </tr>\n",
       "    <tr>\n",
       "      <td>836</td>\n",
       "      <td>837</td>\n",
       "      <td>1950</td>\n",
       "      <td>5</td>\n",
       "      <td>13</td>\n",
       "    </tr>\n",
       "  </tbody>\n",
       "</table>\n",
       "</div>"
      ],
      "text/plain": [
       "     RaceId  Year  Round  CircuitId\n",
       "832     833  1950      1          9\n",
       "833     834  1950      2          6\n",
       "834     835  1950      3         19\n",
       "835     836  1950      4         66\n",
       "836     837  1950      5         13"
      ]
     },
     "execution_count": 3,
     "metadata": {},
     "output_type": "execute_result"
    }
   ],
   "source": [
    "races_list = races_df.loc[:, ['RaceId', 'Year', 'Round', 'CircuitId']]\n",
    "#REFERENCES: https://stackoverflow.com/questions/15891038/change-data-type-of-columns-in-pandas\n",
    "races_list = races_list.apply(pd.to_numeric).sort_values(by=['Year', 'Round'])\n",
    "race_filter = races_list['Year'].between(1950,2019)\n",
    "races_list = races_list[race_filter]\n",
    "print(\"RACES\\n\",\"Shape:\", races_list.shape,\"and Unique RaceIds:\", races_list.RaceId.unique().shape)\n",
    "races_list.Year.unique()\n",
    "required_raceIds = races_list.RaceId.unique()\n",
    "races_list.head()"
   ]
  },
  {
   "cell_type": "code",
   "execution_count": 4,
   "metadata": {},
   "outputs": [
    {
     "data": {
      "text/plain": [
       "(386,)"
      ]
     },
     "execution_count": 4,
     "metadata": {},
     "output_type": "execute_result"
    }
   ],
   "source": [
    "qualifying_data = qualifying_df.loc[:, ['RaceId', 'DriverId', 'ConstructorId', 'QualifyingPosition']]\n",
    "qualifying_data = qualifying_data.apply(pd.to_numeric)\n",
    "qualifying_data.RaceId.unique().shape"
   ]
  },
  {
   "cell_type": "code",
   "execution_count": 5,
   "metadata": {},
   "outputs": [
    {
     "name": "stdout",
     "output_type": "stream",
     "text": [
      "QUALIFYING\n",
      " Shape: (8334, 4) and Unique RaceIds: (386,)\n"
     ]
    },
    {
     "data": {
      "text/plain": [
       "(386,)"
      ]
     },
     "execution_count": 5,
     "metadata": {},
     "output_type": "execute_result"
    }
   ],
   "source": [
    "#Select RaceIds for Races from 2008 to 2019\n",
    "#REFERECES: https://stackoverflow.com/questions/17071871/how-to-select-rows-from-a-dataframe-based-on-column-values\n",
    "qualifying_dataset = qualifying_data.loc[qualifying_data['RaceId'].isin(required_raceIds)]\n",
    "print(\"QUALIFYING\\n\",\"Shape:\", qualifying_dataset.shape,\"and Unique RaceIds:\", qualifying_dataset.RaceId.unique().shape)\n",
    "qualifying_dataset = qualifying_dataset.sort_values(by=['RaceId', 'DriverId'])\n",
    "qualifying_dataset.to_csv(\"QualfyingFilteredNew.csv\")\n",
    "qualifying_dataset.RaceId.unique().shape\n"
   ]
  },
  {
   "cell_type": "code",
   "execution_count": 6,
   "metadata": {},
   "outputs": [
    {
     "data": {
      "text/html": [
       "<div>\n",
       "<style scoped>\n",
       "    .dataframe tbody tr th:only-of-type {\n",
       "        vertical-align: middle;\n",
       "    }\n",
       "\n",
       "    .dataframe tbody tr th {\n",
       "        vertical-align: top;\n",
       "    }\n",
       "\n",
       "    .dataframe thead th {\n",
       "        text-align: right;\n",
       "    }\n",
       "</style>\n",
       "<table border=\"1\" class=\"dataframe\">\n",
       "  <thead>\n",
       "    <tr style=\"text-align: right;\">\n",
       "      <th></th>\n",
       "      <th>RaceId</th>\n",
       "      <th>DriverId</th>\n",
       "      <th>TotalDriverPoints</th>\n",
       "    </tr>\n",
       "  </thead>\n",
       "  <tbody>\n",
       "    <tr>\n",
       "      <td>0</td>\n",
       "      <td>18</td>\n",
       "      <td>1</td>\n",
       "      <td>10</td>\n",
       "    </tr>\n",
       "    <tr>\n",
       "      <td>1</td>\n",
       "      <td>18</td>\n",
       "      <td>2</td>\n",
       "      <td>8</td>\n",
       "    </tr>\n",
       "    <tr>\n",
       "      <td>2</td>\n",
       "      <td>18</td>\n",
       "      <td>3</td>\n",
       "      <td>6</td>\n",
       "    </tr>\n",
       "    <tr>\n",
       "      <td>3</td>\n",
       "      <td>18</td>\n",
       "      <td>4</td>\n",
       "      <td>5</td>\n",
       "    </tr>\n",
       "    <tr>\n",
       "      <td>4</td>\n",
       "      <td>18</td>\n",
       "      <td>5</td>\n",
       "      <td>4</td>\n",
       "    </tr>\n",
       "  </tbody>\n",
       "</table>\n",
       "</div>"
      ],
      "text/plain": [
       "   RaceId  DriverId  TotalDriverPoints\n",
       "0      18         1                 10\n",
       "1      18         2                  8\n",
       "2      18         3                  6\n",
       "3      18         4                  5\n",
       "4      18         5                  4"
      ]
     },
     "execution_count": 6,
     "metadata": {},
     "output_type": "execute_result"
    }
   ],
   "source": [
    "driver_standings_df['DriverPoints'] = driver_standings_df['DriverPoints'].astype(int)\n",
    "driver_standings_df.rename(columns={'DriverPoints': 'TotalDriverPoints'}, inplace = True)\n",
    "driver_standings_data = driver_standings_df.loc[:, ['RaceId', 'DriverId', 'TotalDriverPoints']]\n",
    "driver_standings_data.head()"
   ]
  },
  {
   "cell_type": "code",
   "execution_count": 7,
   "metadata": {},
   "outputs": [
    {
     "data": {
      "text/html": [
       "<div>\n",
       "<style scoped>\n",
       "    .dataframe tbody tr th:only-of-type {\n",
       "        vertical-align: middle;\n",
       "    }\n",
       "\n",
       "    .dataframe tbody tr th {\n",
       "        vertical-align: top;\n",
       "    }\n",
       "\n",
       "    .dataframe thead th {\n",
       "        text-align: right;\n",
       "    }\n",
       "</style>\n",
       "<table border=\"1\" class=\"dataframe\">\n",
       "  <thead>\n",
       "    <tr style=\"text-align: right;\">\n",
       "      <th></th>\n",
       "      <th>RaceId</th>\n",
       "      <th>DriverId</th>\n",
       "      <th>ConstructorId</th>\n",
       "      <th>GridNumber</th>\n",
       "      <th>DriverPosition</th>\n",
       "    </tr>\n",
       "  </thead>\n",
       "  <tbody>\n",
       "    <tr>\n",
       "      <td>0</td>\n",
       "      <td>18</td>\n",
       "      <td>1</td>\n",
       "      <td>1</td>\n",
       "      <td>1</td>\n",
       "      <td>1</td>\n",
       "    </tr>\n",
       "    <tr>\n",
       "      <td>1</td>\n",
       "      <td>18</td>\n",
       "      <td>2</td>\n",
       "      <td>2</td>\n",
       "      <td>5</td>\n",
       "      <td>2</td>\n",
       "    </tr>\n",
       "    <tr>\n",
       "      <td>2</td>\n",
       "      <td>18</td>\n",
       "      <td>3</td>\n",
       "      <td>3</td>\n",
       "      <td>7</td>\n",
       "      <td>3</td>\n",
       "    </tr>\n",
       "    <tr>\n",
       "      <td>3</td>\n",
       "      <td>18</td>\n",
       "      <td>4</td>\n",
       "      <td>4</td>\n",
       "      <td>11</td>\n",
       "      <td>4</td>\n",
       "    </tr>\n",
       "    <tr>\n",
       "      <td>4</td>\n",
       "      <td>18</td>\n",
       "      <td>5</td>\n",
       "      <td>1</td>\n",
       "      <td>3</td>\n",
       "      <td>5</td>\n",
       "    </tr>\n",
       "  </tbody>\n",
       "</table>\n",
       "</div>"
      ],
      "text/plain": [
       "   RaceId  DriverId  ConstructorId  GridNumber DriverPosition\n",
       "0      18         1              1           1              1\n",
       "1      18         2              2           5              2\n",
       "2      18         3              3           7              3\n",
       "3      18         4              4          11              4\n",
       "4      18         5              1           3              5"
      ]
     },
     "execution_count": 7,
     "metadata": {},
     "output_type": "execute_result"
    }
   ],
   "source": [
    "driver_results_data = driver_results_df.loc[:, ['RaceId', 'DriverId', 'ConstructorId', 'GridNumber', 'DriverPosition']]\n",
    "driver_results_data.head()"
   ]
  },
  {
   "cell_type": "code",
   "execution_count": 8,
   "metadata": {},
   "outputs": [
    {
     "name": "stdout",
     "output_type": "stream",
     "text": [
      "DRIVER RESULTS\n",
      " Shape: (24600, 5) and Unique RaceIds: (1017,)\n"
     ]
    },
    {
     "data": {
      "text/html": [
       "<div>\n",
       "<style scoped>\n",
       "    .dataframe tbody tr th:only-of-type {\n",
       "        vertical-align: middle;\n",
       "    }\n",
       "\n",
       "    .dataframe tbody tr th {\n",
       "        vertical-align: top;\n",
       "    }\n",
       "\n",
       "    .dataframe thead th {\n",
       "        text-align: right;\n",
       "    }\n",
       "</style>\n",
       "<table border=\"1\" class=\"dataframe\">\n",
       "  <thead>\n",
       "    <tr style=\"text-align: right;\">\n",
       "      <th></th>\n",
       "      <th>RaceId</th>\n",
       "      <th>DriverId</th>\n",
       "      <th>ConstructorId</th>\n",
       "      <th>GridNumber</th>\n",
       "      <th>DriverPosition</th>\n",
       "    </tr>\n",
       "  </thead>\n",
       "  <tbody>\n",
       "    <tr>\n",
       "      <td>0</td>\n",
       "      <td>18</td>\n",
       "      <td>1</td>\n",
       "      <td>1</td>\n",
       "      <td>1</td>\n",
       "      <td>1</td>\n",
       "    </tr>\n",
       "    <tr>\n",
       "      <td>1</td>\n",
       "      <td>18</td>\n",
       "      <td>2</td>\n",
       "      <td>2</td>\n",
       "      <td>5</td>\n",
       "      <td>2</td>\n",
       "    </tr>\n",
       "    <tr>\n",
       "      <td>2</td>\n",
       "      <td>18</td>\n",
       "      <td>3</td>\n",
       "      <td>3</td>\n",
       "      <td>7</td>\n",
       "      <td>3</td>\n",
       "    </tr>\n",
       "    <tr>\n",
       "      <td>3</td>\n",
       "      <td>18</td>\n",
       "      <td>4</td>\n",
       "      <td>4</td>\n",
       "      <td>11</td>\n",
       "      <td>4</td>\n",
       "    </tr>\n",
       "    <tr>\n",
       "      <td>4</td>\n",
       "      <td>18</td>\n",
       "      <td>5</td>\n",
       "      <td>1</td>\n",
       "      <td>3</td>\n",
       "      <td>5</td>\n",
       "    </tr>\n",
       "  </tbody>\n",
       "</table>\n",
       "</div>"
      ],
      "text/plain": [
       "   RaceId  DriverId  ConstructorId  GridNumber DriverPosition\n",
       "0      18         1              1           1              1\n",
       "1      18         2              2           5              2\n",
       "2      18         3              3           7              3\n",
       "3      18         4              4          11              4\n",
       "4      18         5              1           3              5"
      ]
     },
     "execution_count": 8,
     "metadata": {},
     "output_type": "execute_result"
    }
   ],
   "source": [
    "driver_results_dataset = driver_results_data.loc[driver_results_data['RaceId'].isin(required_raceIds)]\n",
    "print(\"DRIVER RESULTS\\n\",\"Shape:\", driver_results_dataset.shape,\"and Unique RaceIds:\", driver_results_dataset.RaceId.unique().shape)\n",
    "#driver_results_dataset = driver_results_dataset.sort_values(by=['RaceId', 'DriverId'])\n",
    "driver_results_dataset.to_csv(\"driverResultsNew.csv\")\n",
    "driver_results_dataset.head()"
   ]
  },
  {
   "cell_type": "code",
   "execution_count": 9,
   "metadata": {},
   "outputs": [
    {
     "data": {
      "text/html": [
       "<div>\n",
       "<style scoped>\n",
       "    .dataframe tbody tr th:only-of-type {\n",
       "        vertical-align: middle;\n",
       "    }\n",
       "\n",
       "    .dataframe tbody tr th {\n",
       "        vertical-align: top;\n",
       "    }\n",
       "\n",
       "    .dataframe thead th {\n",
       "        text-align: right;\n",
       "    }\n",
       "</style>\n",
       "<table border=\"1\" class=\"dataframe\">\n",
       "  <thead>\n",
       "    <tr style=\"text-align: right;\">\n",
       "      <th></th>\n",
       "      <th>RaceId</th>\n",
       "      <th>DriverId</th>\n",
       "      <th>ConstructorId</th>\n",
       "      <th>GridNumber</th>\n",
       "      <th>DriverPosition</th>\n",
       "      <th>QualifyingPosition</th>\n",
       "    </tr>\n",
       "  </thead>\n",
       "  <tbody>\n",
       "    <tr>\n",
       "      <td>0</td>\n",
       "      <td>18</td>\n",
       "      <td>1</td>\n",
       "      <td>1</td>\n",
       "      <td>1</td>\n",
       "      <td>1</td>\n",
       "      <td>1.0</td>\n",
       "    </tr>\n",
       "    <tr>\n",
       "      <td>1</td>\n",
       "      <td>18</td>\n",
       "      <td>2</td>\n",
       "      <td>2</td>\n",
       "      <td>5</td>\n",
       "      <td>2</td>\n",
       "      <td>5.0</td>\n",
       "    </tr>\n",
       "    <tr>\n",
       "      <td>2</td>\n",
       "      <td>18</td>\n",
       "      <td>3</td>\n",
       "      <td>3</td>\n",
       "      <td>7</td>\n",
       "      <td>3</td>\n",
       "      <td>7.0</td>\n",
       "    </tr>\n",
       "    <tr>\n",
       "      <td>3</td>\n",
       "      <td>18</td>\n",
       "      <td>4</td>\n",
       "      <td>4</td>\n",
       "      <td>11</td>\n",
       "      <td>4</td>\n",
       "      <td>12.0</td>\n",
       "    </tr>\n",
       "    <tr>\n",
       "      <td>4</td>\n",
       "      <td>18</td>\n",
       "      <td>5</td>\n",
       "      <td>1</td>\n",
       "      <td>3</td>\n",
       "      <td>5</td>\n",
       "      <td>3.0</td>\n",
       "    </tr>\n",
       "  </tbody>\n",
       "</table>\n",
       "</div>"
      ],
      "text/plain": [
       "   RaceId  DriverId  ConstructorId  GridNumber DriverPosition  \\\n",
       "0      18         1              1           1              1   \n",
       "1      18         2              2           5              2   \n",
       "2      18         3              3           7              3   \n",
       "3      18         4              4          11              4   \n",
       "4      18         5              1           3              5   \n",
       "\n",
       "   QualifyingPosition  \n",
       "0                 1.0  \n",
       "1                 5.0  \n",
       "2                 7.0  \n",
       "3                12.0  \n",
       "4                 3.0  "
      ]
     },
     "execution_count": 9,
     "metadata": {},
     "output_type": "execute_result"
    }
   ],
   "source": [
    "result = pd.merge(driver_results_dataset, qualifying_dataset, on=['RaceId', 'DriverId', 'ConstructorId'], how='left')\n",
    "result.to_csv(\"Resultant Data New.csv\")\n",
    "result.head()"
   ]
  },
  {
   "cell_type": "code",
   "execution_count": null,
   "metadata": {},
   "outputs": [],
   "source": [
    "final_dataset = pd.read_csv('Resultant Data New.csv')\n",
    "final_dataset.head()"
   ]
  },
  {
   "cell_type": "code",
   "execution_count": null,
   "metadata": {},
   "outputs": [],
   "source": [
    "new_finalSet = pd.merge(final_dataset, races_list, on = ['RaceId'], how = 'left')\n",
    "new_finalSet = new_finalSet.iloc[:, [1, 2, 3, 4, 5, 6, 9]]\n",
    "print(\"Shape:\",new_finalSet.shape)\n",
    "new_finalSet.head()"
   ]
  },
  {
   "cell_type": "code",
   "execution_count": null,
   "metadata": {},
   "outputs": [],
   "source": [
    "# REFERENCES: https://stackoverflow.com/questions/13148429/how-to-change-the-order-of-dataframe-columns\n",
    "new_set = pd.merge(new_finalSet, driver_standings_data, on = ['RaceId', 'DriverId'], how = 'left')\n",
    "new_set.fillna(0, inplace = True)\n",
    "new_set['TotalDriverPoints'] = new_set['TotalDriverPoints'].astype(int)\n",
    "new_order = [0,1,2, 3, 5, 6, 7, 4]\n",
    "new_set = new_set[new_set.columns[new_order]]\n",
    "new_set.head()"
   ]
  },
  {
   "cell_type": "code",
   "execution_count": null,
   "metadata": {},
   "outputs": [],
   "source": [
    "dataset_with_points = new_set\n",
    "dataset_with_points.to_csv('DataSetWithPointsNew.csv')\n",
    "dataset_with_points = dataset_with_points.iloc[:, 1:]\n",
    "dataset_with_points.head()"
   ]
  },
  {
   "cell_type": "code",
   "execution_count": null,
   "metadata": {
    "scrolled": true
   },
   "outputs": [],
   "source": [
    "dataset_with_points['DriverPosition'] = dataset_with_points['DriverPosition'].replace(['\\\\N'], '22')\n",
    "filterData = dataset_with_points[dataset_with_points['DriverPosition'] != '\\\\N']\n",
    "dataset_with_points['DriverPosition'] = dataset_with_points['DriverPosition'].astype(int)\n",
    "filterData.shape"
   ]
  },
  {
   "cell_type": "code",
   "execution_count": null,
   "metadata": {},
   "outputs": [],
   "source": []
  },
  {
   "cell_type": "code",
   "execution_count": null,
   "metadata": {},
   "outputs": [],
   "source": []
  },
  {
   "cell_type": "code",
   "execution_count": null,
   "metadata": {},
   "outputs": [],
   "source": []
  },
  {
   "cell_type": "code",
   "execution_count": null,
   "metadata": {},
   "outputs": [],
   "source": []
  },
  {
   "cell_type": "code",
   "execution_count": null,
   "metadata": {},
   "outputs": [],
   "source": [
    "# REFERENCES: https://www.pluralsight.com/guides/importing-and-splitting-data-into-dependent-and-independent-features-for-ml\n",
    "X = filterData.iloc[:, :-1].values\n",
    "Y = filterData.iloc[:, -1].values\n",
    "X_train, X_test, Y_Train, Y_Test = train_test_split(X, Y, test_size=0.1)\n",
    "print(\"Train Data:\",X_train.shape,\"and Test Data:\",X_test.shape)"
   ]
  },
  {
   "cell_type": "code",
   "execution_count": null,
   "metadata": {},
   "outputs": [],
   "source": [
    "from sklearn.linear_model import LogisticRegression\n",
    "from sklearn.model_selection import KFold\n",
    "from sklearn import metrics\n",
    "\n",
    "kfold = KFold(n_splits = 5)\n",
    "lr_model = LogisticRegression(solver='lbfgs', max_iter=10000)\n",
    "model = lr_model.fit(X_train, Y_Train)\n",
    "Y_pred = lr_model.predict(X_train)\n",
    "count_misclassified = (Y_Test != Y_pred).sum()\n",
    "print('Misclassified samples: {}'.format(count_misclassified))\n",
    "accuracy = metrics.accuracy_score(Y_Test, Y_pred)\n",
    "print('Accuracy: {:.2f}'.format(accuracy))"
   ]
  },
  {
   "cell_type": "code",
   "execution_count": null,
   "metadata": {},
   "outputs": [],
   "source": [
    "from sklearn.tree import DecisionTreeClassifier \n",
    "dtree_model = DecisionTreeClassifier(max_depth = 8).fit(X_train, Y_Train) \n",
    "dtree_predictions = dtree_model.predict(X_test) \n",
    "\n",
    "count_misclassified = (Y_Test != dtree_predictions).sum()\n",
    "print('Misclassified samples: {}'.format(count_misclassified))\n",
    "accuracy = metrics.accuracy_score(Y_Test, dtree_predictions)\n",
    "print('Accuracy: {:.2f}'.format(accuracy))"
   ]
  },
  {
   "cell_type": "markdown",
   "metadata": {},
   "source": [
    "##### from sklearn.neighbors import KNeighborsClassifier \n",
    "knn = KNeighborsClassifier(n_neighbors = 20).fit(X_train, Y_Train) \n",
    "  \n",
    "# accuracy on X_test \n",
    "accuracy = knn.score(X_test, Y_Test) \n",
    "print (accuracy) \n",
    " "
   ]
  },
  {
   "cell_type": "code",
   "execution_count": null,
   "metadata": {},
   "outputs": [],
   "source": []
  },
  {
   "cell_type": "code",
   "execution_count": null,
   "metadata": {},
   "outputs": [],
   "source": []
  },
  {
   "cell_type": "code",
   "execution_count": null,
   "metadata": {},
   "outputs": [],
   "source": []
  },
  {
   "cell_type": "code",
   "execution_count": null,
   "metadata": {},
   "outputs": [],
   "source": []
  }
 ],
 "metadata": {
  "kernelspec": {
   "display_name": "Python 3",
   "language": "python",
   "name": "python3"
  },
  "language_info": {
   "codemirror_mode": {
    "name": "ipython",
    "version": 3
   },
   "file_extension": ".py",
   "mimetype": "text/x-python",
   "name": "python",
   "nbconvert_exporter": "python",
   "pygments_lexer": "ipython3",
   "version": "3.7.4"
  }
 },
 "nbformat": 4,
 "nbformat_minor": 2
}
