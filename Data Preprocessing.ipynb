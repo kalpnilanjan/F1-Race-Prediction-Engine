{
 "cells": [
  {
   "cell_type": "code",
   "execution_count": 1,
   "metadata": {},
   "outputs": [],
   "source": [
    "##Data Preprocessing"
   ]
  },
  {
   "cell_type": "code",
   "execution_count": 219,
   "metadata": {},
   "outputs": [],
   "source": [
    "import pandas as pd\n",
    "import numpy as np\n",
    "from sklearn.model_selection import train_test_split"
   ]
  },
  {
   "cell_type": "code",
   "execution_count": 206,
   "metadata": {},
   "outputs": [],
   "source": [
    "# Importing all Datasets\n",
    "races_df = pd.read_csv(\"races.csv\", header=[0], encoding=\"ISO-8859-1\")\n",
    "qualifying_df = pd.read_csv(\"qualifying.csv\", header=[0], encoding=\"ISO-8859-1\")\n",
    "driver_standings_df = pd.read_csv(\"driver_standings.csv\", header=[0], encoding=\"ISO-8859-1\")\n",
    "constructor_standings_df = pd.read_csv(\"constructor_standings.csv\", header=[0], encoding=\"ISO-8859-1\")\n",
    "driver_results_df = pd.read_csv(\"results.csv\", header=[0], encoding=\"ISO-8859-1\")\n",
    "constructor_results_df = pd.read_csv(\"constructor_results.csv\", header=[0], encoding=\"ISO-8859-1\")"
   ]
  },
  {
   "cell_type": "code",
   "execution_count": 207,
   "metadata": {},
   "outputs": [
    {
     "data": {
      "text/html": [
       "<div>\n",
       "<style scoped>\n",
       "    .dataframe tbody tr th:only-of-type {\n",
       "        vertical-align: middle;\n",
       "    }\n",
       "\n",
       "    .dataframe tbody tr th {\n",
       "        vertical-align: top;\n",
       "    }\n",
       "\n",
       "    .dataframe thead th {\n",
       "        text-align: right;\n",
       "    }\n",
       "</style>\n",
       "<table border=\"1\" class=\"dataframe\">\n",
       "  <thead>\n",
       "    <tr style=\"text-align: right;\">\n",
       "      <th></th>\n",
       "      <th>RaceId</th>\n",
       "      <th>Year</th>\n",
       "      <th>Round</th>\n",
       "      <th>CircuitId</th>\n",
       "    </tr>\n",
       "  </thead>\n",
       "  <tbody>\n",
       "    <tr>\n",
       "      <td>0</td>\n",
       "      <td>1</td>\n",
       "      <td>2009</td>\n",
       "      <td>1</td>\n",
       "      <td>1</td>\n",
       "    </tr>\n",
       "    <tr>\n",
       "      <td>1</td>\n",
       "      <td>2</td>\n",
       "      <td>2009</td>\n",
       "      <td>2</td>\n",
       "      <td>2</td>\n",
       "    </tr>\n",
       "    <tr>\n",
       "      <td>2</td>\n",
       "      <td>3</td>\n",
       "      <td>2009</td>\n",
       "      <td>3</td>\n",
       "      <td>17</td>\n",
       "    </tr>\n",
       "    <tr>\n",
       "      <td>3</td>\n",
       "      <td>4</td>\n",
       "      <td>2009</td>\n",
       "      <td>4</td>\n",
       "      <td>3</td>\n",
       "    </tr>\n",
       "    <tr>\n",
       "      <td>4</td>\n",
       "      <td>5</td>\n",
       "      <td>2009</td>\n",
       "      <td>5</td>\n",
       "      <td>4</td>\n",
       "    </tr>\n",
       "  </tbody>\n",
       "</table>\n",
       "</div>"
      ],
      "text/plain": [
       "   RaceId  Year  Round  CircuitId\n",
       "0       1  2009      1          1\n",
       "1       2  2009      2          2\n",
       "2       3  2009      3         17\n",
       "3       4  2009      4          3\n",
       "4       5  2009      5          4"
      ]
     },
     "execution_count": 207,
     "metadata": {},
     "output_type": "execute_result"
    }
   ],
   "source": [
    "races_list = races_df.loc[:, ['RaceId', 'Year', 'Round', 'CircuitId']]\n",
    "#REFERENCES: https://stackoverflow.com/questions/15891038/change-data-type-of-columns-in-pandas\n",
    "races_list = races_list.apply(pd.to_numeric)\n",
    "races_list.head()"
   ]
  },
  {
   "cell_type": "code",
   "execution_count": 216,
   "metadata": {},
   "outputs": [
    {
     "name": "stdout",
     "output_type": "stream",
     "text": [
      "RACES\n",
      " Shape: (233, 4) and Unique RaceIds: (233,)\n"
     ]
    },
    {
     "data": {
      "text/plain": [
       "array([   1,    2,    3,    4,    5,    6,    7,    8,    9,   10,   11,\n",
       "         12,   13,   14,   15,   16,   17,   18,   19,   20,   21,   22,\n",
       "         23,   24,   25,   26,   27,   28,   29,   30,   31,   32,   33,\n",
       "         34,   35,  337,  338,  339,  340,  341,  342,  343,  344,  345,\n",
       "        346,  347,  348,  349,  350,  351,  352,  353,  354,  355,  841,\n",
       "        842,  843,  844,  845,  846,  847,  848,  849,  850,  851,  852,\n",
       "        853,  854,  855,  856,  857,  858,  859,  860,  861,  862,  863,\n",
       "        864,  865,  866,  867,  868,  869,  870,  871,  872,  873,  874,\n",
       "        875,  876,  877,  878,  879,  880,  881,  882,  883,  884,  885,\n",
       "        886,  887,  888,  890,  891,  892,  893,  894,  895,  896,  897,\n",
       "        898,  899,  900,  901,  902,  903,  904,  905,  906,  907,  908,\n",
       "        909,  910,  911,  912,  913,  914,  915,  916,  917,  918,  931,\n",
       "        932,  929,  930,  928,  926,  927,  933,  934,  936,  937,  938,\n",
       "        939,  940,  941,  942,  943,  944,  945,  948,  949,  950,  951,\n",
       "        952,  953,  954,  955,  956,  957,  958,  959,  960,  961,  962,\n",
       "        963,  964,  965,  966,  967,  968,  969,  970,  971,  972,  973,\n",
       "        974,  975,  976,  977,  978,  979,  980,  981,  982,  983,  984,\n",
       "        985,  986,  987,  988,  989,  990,  991,  992,  993,  994,  995,\n",
       "        996,  997,  998,  999, 1000, 1001, 1002, 1003, 1004, 1005, 1006,\n",
       "       1007, 1008, 1009, 1010, 1011, 1012, 1013, 1014, 1015, 1016, 1017,\n",
       "       1018, 1019, 1020, 1021, 1022, 1023, 1024, 1025, 1026, 1027, 1028,\n",
       "       1029, 1030])"
      ]
     },
     "execution_count": 216,
     "metadata": {},
     "output_type": "execute_result"
    }
   ],
   "source": [
    "# Select races from 2007 to 2018\n",
    "race_filter = races_list['Year'].between(2008,2019)\n",
    "races_list = races_list[race_filter]\n",
    "print(\"RACES\\n\",\"Shape:\", races_list.shape,\"and Unique RaceIds:\", races_list.RaceId.unique().shape)\n",
    "races_list.Year.unique()\n",
    "required_raceIds = races_list.RaceId.unique()\n",
    "races_list.RaceId.unique()"
   ]
  },
  {
   "cell_type": "code",
   "execution_count": 217,
   "metadata": {},
   "outputs": [
    {
     "data": {
      "text/plain": [
       "array([  18,   19,   20,   21,   22,   23,   24,   25,   26,   27,   28,\n",
       "         29,   30,   31,   32,   33,   34,   35,   36,   37,   38,   39,\n",
       "         40,   41,   42,   43,   44,   45,   46,   47,   48,   49,   50,\n",
       "         51,   52,   53,   54,   55,   56,   57,   58,   59,   60,   61,\n",
       "         62,   63,   64,   65,   66,   67,   68,   69,   70,   77,   78,\n",
       "         79,   80,   81,   82,   83,   84,   85,   86,   87,   88,   89,\n",
       "        104,  109,  125,  140,  156,  158,  160,  161,  173,  175,  176,\n",
       "        177,  191,  192,  193,  199,  200,  201,  203,  207,  208,  209,\n",
       "        210,  211,  212,  213,  214,  215,  216,  224,  225,  226,  227,\n",
       "        228,  229,  230,  240,  241,  242,  243,  244,  245,  246,  247,\n",
       "        248,  249,  250,  251,  252,  253,  254,  255,  256,  257,  258,\n",
       "        259,  261,  262,  263,  264,  265,  266,  267,  268,  269,  270,\n",
       "        271,  272,    1,    2,    3,    4,    5,    6,    7,    8,    9,\n",
       "         10,   11,   12,   13,   14,   15,   16,   17,  337,  338,  339,\n",
       "        340,  341,  342,  343,  344,  345,  346,  347,  348,  349,  350,\n",
       "        351,  352,  353,  354,  355,  108,  110,  111,  112,  113,  114,\n",
       "        115,  116,  117,  118,  119,  120,  121,  122,  123,   90,   91,\n",
       "         92,   93,   94,   95,   96,   97,   98,   99,  100,  101,  102,\n",
       "        103,  105,  106,  107,   71,   72,   73,   74,   75,   76,  841,\n",
       "        842,  843,  844,  845,  846,  847,  848,  849,  850,  851,  852,\n",
       "        854,  855,  856,  857,  858,  859,  860,  861,  862,  863,  864,\n",
       "        865,  866,  867,  868,  869,  870,  871,  872,  873,  874,  875,\n",
       "        876,  877,  878,  879,  880,  881,  882,  883,  884,  885,  886,\n",
       "        887,  888,  890,  891,  892,  893,  894,  895,  896,  897,  898,\n",
       "        899,  900,  901,  902,  853,  903,  904,  905,  906,  907,  908,\n",
       "        909,  910,  911,  912,  913,  914,  915,  916,  917,  918,  926,\n",
       "        927,  928,  929,  930,  931,  932,  933,  934,  936,  937,  938,\n",
       "        939,  940,  941,  942,  943,  944,  945,  948,  949,  950,  951,\n",
       "        952,  953,  954,  955,  956,  957,  958,  959,  960,  961,  962,\n",
       "        963,  964,  965,  966,  967,  968,  969,  970,  971,  972,  973,\n",
       "        974,  975,  976,  977,  978,  979,  980,  981,  982,  983,  984,\n",
       "        985,  986,  987,  988,  989,  990,  991,  992,  993,  994,  995,\n",
       "        996,  997,  998,  999, 1000, 1001, 1002, 1003, 1004, 1005, 1006,\n",
       "       1007, 1008, 1009, 1010, 1011, 1012, 1013, 1014, 1015, 1016, 1017,\n",
       "       1018, 1019, 1020, 1021, 1022, 1023, 1024, 1025, 1026, 1027, 1028,\n",
       "       1029])"
      ]
     },
     "execution_count": 217,
     "metadata": {},
     "output_type": "execute_result"
    }
   ],
   "source": [
    "qualifying_df.head()\n",
    "qualifying_data = qualifying_df.loc[:, ['RaceId', 'DriverId', 'ConstructorId', 'QualifyingPosition']]\n",
    "qualifying_data = qualifying_data.apply(pd.to_numeric)\n",
    "qualifying_data.RaceId.unique()"
   ]
  },
  {
   "cell_type": "code",
   "execution_count": 215,
   "metadata": {},
   "outputs": [
    {
     "name": "stdout",
     "output_type": "stream",
     "text": [
      "QUALIFYING\n",
      " Shape: (4962, 4) and Unique RaceIds: (232,)\n"
     ]
    },
    {
     "data": {
      "text/plain": [
       "array([   1,    2,    3,    4,    5,    6,    7,    8,    9,   10,   11,\n",
       "         12,   13,   14,   15,   16,   17,   18,   19,   20,   21,   22,\n",
       "         23,   24,   25,   26,   27,   28,   29,   30,   31,   32,   33,\n",
       "         34,   35,  337,  338,  339,  340,  341,  342,  343,  344,  345,\n",
       "        346,  347,  348,  349,  350,  351,  352,  353,  354,  355,  841,\n",
       "        842,  843,  844,  845,  846,  847,  848,  849,  850,  851,  852,\n",
       "        853,  854,  855,  856,  857,  858,  859,  860,  861,  862,  863,\n",
       "        864,  865,  866,  867,  868,  869,  870,  871,  872,  873,  874,\n",
       "        875,  876,  877,  878,  879,  880,  881,  882,  883,  884,  885,\n",
       "        886,  887,  888,  890,  891,  892,  893,  894,  895,  896,  897,\n",
       "        898,  899,  900,  901,  902,  903,  904,  905,  906,  907,  908,\n",
       "        909,  910,  911,  912,  913,  914,  915,  916,  917,  918,  926,\n",
       "        927,  928,  929,  930,  931,  932,  933,  934,  936,  937,  938,\n",
       "        939,  940,  941,  942,  943,  944,  945,  948,  949,  950,  951,\n",
       "        952,  953,  954,  955,  956,  957,  958,  959,  960,  961,  962,\n",
       "        963,  964,  965,  966,  967,  968,  969,  970,  971,  972,  973,\n",
       "        974,  975,  976,  977,  978,  979,  980,  981,  982,  983,  984,\n",
       "        985,  986,  987,  988,  989,  990,  991,  992,  993,  994,  995,\n",
       "        996,  997,  998,  999, 1000, 1001, 1002, 1003, 1004, 1005, 1006,\n",
       "       1007, 1008, 1009, 1010, 1011, 1012, 1013, 1014, 1015, 1016, 1017,\n",
       "       1018, 1019, 1020, 1021, 1022, 1023, 1024, 1025, 1026, 1027, 1028,\n",
       "       1029])"
      ]
     },
     "execution_count": 215,
     "metadata": {},
     "output_type": "execute_result"
    }
   ],
   "source": [
    "#Select RaceIds for Races from 2008 to 2019\n",
    "#REFERECES: https://stackoverflow.com/questions/17071871/how-to-select-rows-from-a-dataframe-based-on-column-values\n",
    "qualifying_dataset = qualifying_data.loc[qualifying_data['RaceId'].isin(required_raceIds)]\n",
    "print(\"QUALIFYING\\n\",\"Shape:\", qualifying_dataset.shape,\"and Unique RaceIds:\", qualifying_dataset.RaceId.unique().shape)\n",
    "qualifying_dataset = qualifying_dataset.sort_values(by=['RaceId', 'DriverId'])\n",
    "qualifying_dataset.to_csv(\"QualfyingFiltered.csv\")\n",
    "qualifying_dataset.RaceId.unique()\n"
   ]
  },
  {
   "cell_type": "code",
   "execution_count": 211,
   "metadata": {},
   "outputs": [
    {
     "data": {
      "text/html": [
       "<div>\n",
       "<style scoped>\n",
       "    .dataframe tbody tr th:only-of-type {\n",
       "        vertical-align: middle;\n",
       "    }\n",
       "\n",
       "    .dataframe tbody tr th {\n",
       "        vertical-align: top;\n",
       "    }\n",
       "\n",
       "    .dataframe thead th {\n",
       "        text-align: right;\n",
       "    }\n",
       "</style>\n",
       "<table border=\"1\" class=\"dataframe\">\n",
       "  <thead>\n",
       "    <tr style=\"text-align: right;\">\n",
       "      <th></th>\n",
       "      <th>RaceId</th>\n",
       "      <th>DriverId</th>\n",
       "      <th>TotalDriverPoints</th>\n",
       "    </tr>\n",
       "  </thead>\n",
       "  <tbody>\n",
       "    <tr>\n",
       "      <td>0</td>\n",
       "      <td>18</td>\n",
       "      <td>1</td>\n",
       "      <td>10</td>\n",
       "    </tr>\n",
       "    <tr>\n",
       "      <td>1</td>\n",
       "      <td>18</td>\n",
       "      <td>2</td>\n",
       "      <td>8</td>\n",
       "    </tr>\n",
       "    <tr>\n",
       "      <td>2</td>\n",
       "      <td>18</td>\n",
       "      <td>3</td>\n",
       "      <td>6</td>\n",
       "    </tr>\n",
       "    <tr>\n",
       "      <td>3</td>\n",
       "      <td>18</td>\n",
       "      <td>4</td>\n",
       "      <td>5</td>\n",
       "    </tr>\n",
       "    <tr>\n",
       "      <td>4</td>\n",
       "      <td>18</td>\n",
       "      <td>5</td>\n",
       "      <td>4</td>\n",
       "    </tr>\n",
       "  </tbody>\n",
       "</table>\n",
       "</div>"
      ],
      "text/plain": [
       "   RaceId  DriverId  TotalDriverPoints\n",
       "0      18         1                 10\n",
       "1      18         2                  8\n",
       "2      18         3                  6\n",
       "3      18         4                  5\n",
       "4      18         5                  4"
      ]
     },
     "execution_count": 211,
     "metadata": {},
     "output_type": "execute_result"
    }
   ],
   "source": [
    "driver_standings_df['DriverPoints'] = driver_standings_df['DriverPoints'].astype(int)\n",
    "driver_standings_df.rename(columns={'DriverPoints': 'TotalDriverPoints'}, inplace = True)\n",
    "driver_standings_data = driver_standings_df.loc[:, ['RaceId', 'DriverId', 'TotalDriverPoints']]\n",
    "driver_standings_data.head()"
   ]
  },
  {
   "cell_type": "code",
   "execution_count": 212,
   "metadata": {},
   "outputs": [
    {
     "data": {
      "text/html": [
       "<div>\n",
       "<style scoped>\n",
       "    .dataframe tbody tr th:only-of-type {\n",
       "        vertical-align: middle;\n",
       "    }\n",
       "\n",
       "    .dataframe tbody tr th {\n",
       "        vertical-align: top;\n",
       "    }\n",
       "\n",
       "    .dataframe thead th {\n",
       "        text-align: right;\n",
       "    }\n",
       "</style>\n",
       "<table border=\"1\" class=\"dataframe\">\n",
       "  <thead>\n",
       "    <tr style=\"text-align: right;\">\n",
       "      <th></th>\n",
       "      <th>RaceId</th>\n",
       "      <th>DriverId</th>\n",
       "      <th>ConstructorId</th>\n",
       "      <th>GridNumber</th>\n",
       "      <th>DriverPosition</th>\n",
       "    </tr>\n",
       "  </thead>\n",
       "  <tbody>\n",
       "    <tr>\n",
       "      <td>0</td>\n",
       "      <td>18</td>\n",
       "      <td>1</td>\n",
       "      <td>1</td>\n",
       "      <td>1</td>\n",
       "      <td>1</td>\n",
       "    </tr>\n",
       "    <tr>\n",
       "      <td>1</td>\n",
       "      <td>18</td>\n",
       "      <td>2</td>\n",
       "      <td>2</td>\n",
       "      <td>5</td>\n",
       "      <td>2</td>\n",
       "    </tr>\n",
       "    <tr>\n",
       "      <td>2</td>\n",
       "      <td>18</td>\n",
       "      <td>3</td>\n",
       "      <td>3</td>\n",
       "      <td>7</td>\n",
       "      <td>3</td>\n",
       "    </tr>\n",
       "    <tr>\n",
       "      <td>3</td>\n",
       "      <td>18</td>\n",
       "      <td>4</td>\n",
       "      <td>4</td>\n",
       "      <td>11</td>\n",
       "      <td>4</td>\n",
       "    </tr>\n",
       "    <tr>\n",
       "      <td>4</td>\n",
       "      <td>18</td>\n",
       "      <td>5</td>\n",
       "      <td>1</td>\n",
       "      <td>3</td>\n",
       "      <td>5</td>\n",
       "    </tr>\n",
       "  </tbody>\n",
       "</table>\n",
       "</div>"
      ],
      "text/plain": [
       "   RaceId  DriverId  ConstructorId  GridNumber DriverPosition\n",
       "0      18         1              1           1              1\n",
       "1      18         2              2           5              2\n",
       "2      18         3              3           7              3\n",
       "3      18         4              4          11              4\n",
       "4      18         5              1           3              5"
      ]
     },
     "execution_count": 212,
     "metadata": {},
     "output_type": "execute_result"
    }
   ],
   "source": [
    "driver_results_data = driver_results_df.loc[:, ['RaceId', 'DriverId', 'ConstructorId', 'GridNumber', 'DriverPosition']]\n",
    "driver_results_data.head()"
   ]
  },
  {
   "cell_type": "code",
   "execution_count": 213,
   "metadata": {},
   "outputs": [
    {
     "name": "stdout",
     "output_type": "stream",
     "text": [
      "DRIVER RESULTS\n",
      " Shape: (4985, 5) and Unique RaceIds: (232,)\n"
     ]
    }
   ],
   "source": [
    "driver_results_dataset = driver_results_data.loc[driver_results_data['RaceId'].isin(required_raceIds)]\n",
    "print(\"DRIVER RESULTS\\n\",\"Shape:\", driver_results_dataset.shape,\"and Unique RaceIds:\", driver_results_dataset.RaceId.unique().shape)\n",
    "driver_results_dataset = driver_results_dataset.sort_values(by=['RaceId', 'DriverId'])\n",
    "driver_results_dataset.to_csv(\"driverResultsFiltered.csv\")"
   ]
  },
  {
   "cell_type": "code",
   "execution_count": 214,
   "metadata": {},
   "outputs": [],
   "source": [
    "result = pd.merge(driver_results_dataset, qualifying_dataset, on=['RaceId', 'DriverId'], how='left')\n",
    "result.to_csv(\"Resultant Data.csv\")"
   ]
  },
  {
   "cell_type": "code",
   "execution_count": 172,
   "metadata": {},
   "outputs": [
    {
     "data": {
      "text/html": [
       "<div>\n",
       "<style scoped>\n",
       "    .dataframe tbody tr th:only-of-type {\n",
       "        vertical-align: middle;\n",
       "    }\n",
       "\n",
       "    .dataframe tbody tr th {\n",
       "        vertical-align: top;\n",
       "    }\n",
       "\n",
       "    .dataframe thead th {\n",
       "        text-align: right;\n",
       "    }\n",
       "</style>\n",
       "<table border=\"1\" class=\"dataframe\">\n",
       "  <thead>\n",
       "    <tr style=\"text-align: right;\">\n",
       "      <th></th>\n",
       "      <th>Unnamed: 0</th>\n",
       "      <th>RaceId</th>\n",
       "      <th>DriverId</th>\n",
       "      <th>ConstructorId</th>\n",
       "      <th>GridNumber</th>\n",
       "      <th>DriverPosition</th>\n",
       "      <th>QualifyingPosition</th>\n",
       "    </tr>\n",
       "  </thead>\n",
       "  <tbody>\n",
       "    <tr>\n",
       "      <td>0</td>\n",
       "      <td>0</td>\n",
       "      <td>1</td>\n",
       "      <td>1</td>\n",
       "      <td>1</td>\n",
       "      <td>18</td>\n",
       "      <td>\\N</td>\n",
       "      <td>15</td>\n",
       "    </tr>\n",
       "    <tr>\n",
       "      <td>1</td>\n",
       "      <td>1</td>\n",
       "      <td>1</td>\n",
       "      <td>2</td>\n",
       "      <td>2</td>\n",
       "      <td>9</td>\n",
       "      <td>10</td>\n",
       "      <td>11</td>\n",
       "    </tr>\n",
       "    <tr>\n",
       "      <td>2</td>\n",
       "      <td>2</td>\n",
       "      <td>1</td>\n",
       "      <td>3</td>\n",
       "      <td>3</td>\n",
       "      <td>5</td>\n",
       "      <td>6</td>\n",
       "      <td>5</td>\n",
       "    </tr>\n",
       "    <tr>\n",
       "      <td>3</td>\n",
       "      <td>3</td>\n",
       "      <td>1</td>\n",
       "      <td>4</td>\n",
       "      <td>4</td>\n",
       "      <td>10</td>\n",
       "      <td>5</td>\n",
       "      <td>12</td>\n",
       "    </tr>\n",
       "    <tr>\n",
       "      <td>4</td>\n",
       "      <td>4</td>\n",
       "      <td>1</td>\n",
       "      <td>5</td>\n",
       "      <td>1</td>\n",
       "      <td>12</td>\n",
       "      <td>\\N</td>\n",
       "      <td>14</td>\n",
       "    </tr>\n",
       "  </tbody>\n",
       "</table>\n",
       "</div>"
      ],
      "text/plain": [
       "   Unnamed: 0  RaceId  DriverId  ConstructorId  GridNumber DriverPosition  \\\n",
       "0           0       1         1              1          18             \\N   \n",
       "1           1       1         2              2           9             10   \n",
       "2           2       1         3              3           5              6   \n",
       "3           3       1         4              4          10              5   \n",
       "4           4       1         5              1          12             \\N   \n",
       "\n",
       "   QualifyingPosition  \n",
       "0                  15  \n",
       "1                  11  \n",
       "2                   5  \n",
       "3                  12  \n",
       "4                  14  "
      ]
     },
     "execution_count": 172,
     "metadata": {},
     "output_type": "execute_result"
    }
   ],
   "source": [
    "final_dataset = pd.read_csv('Resultant Data.csv')\n",
    "final_dataset.head()"
   ]
  },
  {
   "cell_type": "code",
   "execution_count": 175,
   "metadata": {},
   "outputs": [
    {
     "name": "stdout",
     "output_type": "stream",
     "text": [
      "Shape: (4585, 7)\n"
     ]
    },
    {
     "data": {
      "text/html": [
       "<div>\n",
       "<style scoped>\n",
       "    .dataframe tbody tr th:only-of-type {\n",
       "        vertical-align: middle;\n",
       "    }\n",
       "\n",
       "    .dataframe tbody tr th {\n",
       "        vertical-align: top;\n",
       "    }\n",
       "\n",
       "    .dataframe thead th {\n",
       "        text-align: right;\n",
       "    }\n",
       "</style>\n",
       "<table border=\"1\" class=\"dataframe\">\n",
       "  <thead>\n",
       "    <tr style=\"text-align: right;\">\n",
       "      <th></th>\n",
       "      <th>RaceId</th>\n",
       "      <th>DriverId</th>\n",
       "      <th>ConstructorId</th>\n",
       "      <th>GridNumber</th>\n",
       "      <th>DriverPosition</th>\n",
       "      <th>QualifyingPosition</th>\n",
       "      <th>CircuitId</th>\n",
       "    </tr>\n",
       "  </thead>\n",
       "  <tbody>\n",
       "    <tr>\n",
       "      <td>0</td>\n",
       "      <td>1</td>\n",
       "      <td>1</td>\n",
       "      <td>1</td>\n",
       "      <td>18</td>\n",
       "      <td>\\N</td>\n",
       "      <td>15</td>\n",
       "      <td>1</td>\n",
       "    </tr>\n",
       "    <tr>\n",
       "      <td>1</td>\n",
       "      <td>1</td>\n",
       "      <td>2</td>\n",
       "      <td>2</td>\n",
       "      <td>9</td>\n",
       "      <td>10</td>\n",
       "      <td>11</td>\n",
       "      <td>1</td>\n",
       "    </tr>\n",
       "    <tr>\n",
       "      <td>2</td>\n",
       "      <td>1</td>\n",
       "      <td>3</td>\n",
       "      <td>3</td>\n",
       "      <td>5</td>\n",
       "      <td>6</td>\n",
       "      <td>5</td>\n",
       "      <td>1</td>\n",
       "    </tr>\n",
       "    <tr>\n",
       "      <td>3</td>\n",
       "      <td>1</td>\n",
       "      <td>4</td>\n",
       "      <td>4</td>\n",
       "      <td>10</td>\n",
       "      <td>5</td>\n",
       "      <td>12</td>\n",
       "      <td>1</td>\n",
       "    </tr>\n",
       "    <tr>\n",
       "      <td>4</td>\n",
       "      <td>1</td>\n",
       "      <td>5</td>\n",
       "      <td>1</td>\n",
       "      <td>12</td>\n",
       "      <td>\\N</td>\n",
       "      <td>14</td>\n",
       "      <td>1</td>\n",
       "    </tr>\n",
       "  </tbody>\n",
       "</table>\n",
       "</div>"
      ],
      "text/plain": [
       "   RaceId  DriverId  ConstructorId  GridNumber DriverPosition  \\\n",
       "0       1         1              1          18             \\N   \n",
       "1       1         2              2           9             10   \n",
       "2       1         3              3           5              6   \n",
       "3       1         4              4          10              5   \n",
       "4       1         5              1          12             \\N   \n",
       "\n",
       "   QualifyingPosition  CircuitId  \n",
       "0                  15          1  \n",
       "1                  11          1  \n",
       "2                   5          1  \n",
       "3                  12          1  \n",
       "4                  14          1  "
      ]
     },
     "execution_count": 175,
     "metadata": {},
     "output_type": "execute_result"
    }
   ],
   "source": [
    "new_finalSet = pd.merge(final_dataset, races_list, on = ['RaceId'], how = 'left')\n",
    "new_finalSet = new_finalSet.iloc[:, [1, 2, 3, 4, 5, 6, 9]]\n",
    "print(\"Shape:\",new_finalSet.shape)\n",
    "new_finalSet.head()"
   ]
  },
  {
   "cell_type": "code",
   "execution_count": 244,
   "metadata": {},
   "outputs": [
    {
     "data": {
      "text/html": [
       "<div>\n",
       "<style scoped>\n",
       "    .dataframe tbody tr th:only-of-type {\n",
       "        vertical-align: middle;\n",
       "    }\n",
       "\n",
       "    .dataframe tbody tr th {\n",
       "        vertical-align: top;\n",
       "    }\n",
       "\n",
       "    .dataframe thead th {\n",
       "        text-align: right;\n",
       "    }\n",
       "</style>\n",
       "<table border=\"1\" class=\"dataframe\">\n",
       "  <thead>\n",
       "    <tr style=\"text-align: right;\">\n",
       "      <th></th>\n",
       "      <th>RaceId</th>\n",
       "      <th>DriverId</th>\n",
       "      <th>ConstructorId</th>\n",
       "      <th>GridNumber</th>\n",
       "      <th>QualifyingPosition</th>\n",
       "      <th>CircuitId</th>\n",
       "      <th>TotalDriverPoints</th>\n",
       "      <th>DriverPosition</th>\n",
       "    </tr>\n",
       "  </thead>\n",
       "  <tbody>\n",
       "    <tr>\n",
       "      <td>0</td>\n",
       "      <td>1</td>\n",
       "      <td>1</td>\n",
       "      <td>1</td>\n",
       "      <td>18</td>\n",
       "      <td>15</td>\n",
       "      <td>1</td>\n",
       "      <td>0</td>\n",
       "      <td>\\N</td>\n",
       "    </tr>\n",
       "    <tr>\n",
       "      <td>1</td>\n",
       "      <td>1</td>\n",
       "      <td>2</td>\n",
       "      <td>2</td>\n",
       "      <td>9</td>\n",
       "      <td>11</td>\n",
       "      <td>1</td>\n",
       "      <td>0</td>\n",
       "      <td>10</td>\n",
       "    </tr>\n",
       "    <tr>\n",
       "      <td>2</td>\n",
       "      <td>1</td>\n",
       "      <td>3</td>\n",
       "      <td>3</td>\n",
       "      <td>5</td>\n",
       "      <td>5</td>\n",
       "      <td>1</td>\n",
       "      <td>3</td>\n",
       "      <td>6</td>\n",
       "    </tr>\n",
       "    <tr>\n",
       "      <td>3</td>\n",
       "      <td>1</td>\n",
       "      <td>4</td>\n",
       "      <td>4</td>\n",
       "      <td>10</td>\n",
       "      <td>12</td>\n",
       "      <td>1</td>\n",
       "      <td>4</td>\n",
       "      <td>5</td>\n",
       "    </tr>\n",
       "    <tr>\n",
       "      <td>4</td>\n",
       "      <td>1</td>\n",
       "      <td>5</td>\n",
       "      <td>1</td>\n",
       "      <td>12</td>\n",
       "      <td>14</td>\n",
       "      <td>1</td>\n",
       "      <td>0</td>\n",
       "      <td>\\N</td>\n",
       "    </tr>\n",
       "  </tbody>\n",
       "</table>\n",
       "</div>"
      ],
      "text/plain": [
       "   RaceId  DriverId  ConstructorId  GridNumber  QualifyingPosition  CircuitId  \\\n",
       "0       1         1              1          18                  15          1   \n",
       "1       1         2              2           9                  11          1   \n",
       "2       1         3              3           5                   5          1   \n",
       "3       1         4              4          10                  12          1   \n",
       "4       1         5              1          12                  14          1   \n",
       "\n",
       "   TotalDriverPoints DriverPosition  \n",
       "0                  0             \\N  \n",
       "1                  0             10  \n",
       "2                  3              6  \n",
       "3                  4              5  \n",
       "4                  0             \\N  "
      ]
     },
     "execution_count": 244,
     "metadata": {},
     "output_type": "execute_result"
    }
   ],
   "source": [
    "# REFERENCES: https://stackoverflow.com/questions/13148429/how-to-change-the-order-of-dataframe-columns\n",
    "new_set = pd.merge(new_finalSet, driver_standings_data, on = ['RaceId', 'DriverId'], how = 'left')\n",
    "new_set.fillna(0, inplace = True)\n",
    "new_set['TotalDriverPoints'] = new_set['TotalDriverPoints'].astype(int)\n",
    "new_order = [0,1,2, 3, 5, 6, 7, 4]\n",
    "new_set = new_set[new_set.columns[new_order]]\n",
    "new_set.head()"
   ]
  },
  {
   "cell_type": "code",
   "execution_count": 245,
   "metadata": {},
   "outputs": [],
   "source": [
    "dataset_without_points = new_set.iloc[:, 0:7]\n",
    "dataset_without_points.head()\n",
    "dataset_without_points.to_csv('DataSetWithoutPoints.csv')"
   ]
  },
  {
   "cell_type": "code",
   "execution_count": 246,
   "metadata": {},
   "outputs": [
    {
     "data": {
      "text/html": [
       "<div>\n",
       "<style scoped>\n",
       "    .dataframe tbody tr th:only-of-type {\n",
       "        vertical-align: middle;\n",
       "    }\n",
       "\n",
       "    .dataframe tbody tr th {\n",
       "        vertical-align: top;\n",
       "    }\n",
       "\n",
       "    .dataframe thead th {\n",
       "        text-align: right;\n",
       "    }\n",
       "</style>\n",
       "<table border=\"1\" class=\"dataframe\">\n",
       "  <thead>\n",
       "    <tr style=\"text-align: right;\">\n",
       "      <th></th>\n",
       "      <th>RaceId</th>\n",
       "      <th>DriverId</th>\n",
       "      <th>ConstructorId</th>\n",
       "      <th>GridNumber</th>\n",
       "      <th>QualifyingPosition</th>\n",
       "      <th>CircuitId</th>\n",
       "      <th>TotalDriverPoints</th>\n",
       "      <th>DriverPosition</th>\n",
       "    </tr>\n",
       "  </thead>\n",
       "  <tbody>\n",
       "    <tr>\n",
       "      <td>0</td>\n",
       "      <td>1</td>\n",
       "      <td>1</td>\n",
       "      <td>1</td>\n",
       "      <td>18</td>\n",
       "      <td>15</td>\n",
       "      <td>1</td>\n",
       "      <td>0</td>\n",
       "      <td>\\N</td>\n",
       "    </tr>\n",
       "    <tr>\n",
       "      <td>1</td>\n",
       "      <td>1</td>\n",
       "      <td>2</td>\n",
       "      <td>2</td>\n",
       "      <td>9</td>\n",
       "      <td>11</td>\n",
       "      <td>1</td>\n",
       "      <td>0</td>\n",
       "      <td>10</td>\n",
       "    </tr>\n",
       "    <tr>\n",
       "      <td>2</td>\n",
       "      <td>1</td>\n",
       "      <td>3</td>\n",
       "      <td>3</td>\n",
       "      <td>5</td>\n",
       "      <td>5</td>\n",
       "      <td>1</td>\n",
       "      <td>3</td>\n",
       "      <td>6</td>\n",
       "    </tr>\n",
       "    <tr>\n",
       "      <td>3</td>\n",
       "      <td>1</td>\n",
       "      <td>4</td>\n",
       "      <td>4</td>\n",
       "      <td>10</td>\n",
       "      <td>12</td>\n",
       "      <td>1</td>\n",
       "      <td>4</td>\n",
       "      <td>5</td>\n",
       "    </tr>\n",
       "    <tr>\n",
       "      <td>4</td>\n",
       "      <td>1</td>\n",
       "      <td>5</td>\n",
       "      <td>1</td>\n",
       "      <td>12</td>\n",
       "      <td>14</td>\n",
       "      <td>1</td>\n",
       "      <td>0</td>\n",
       "      <td>\\N</td>\n",
       "    </tr>\n",
       "  </tbody>\n",
       "</table>\n",
       "</div>"
      ],
      "text/plain": [
       "   RaceId  DriverId  ConstructorId  GridNumber  QualifyingPosition  CircuitId  \\\n",
       "0       1         1              1          18                  15          1   \n",
       "1       1         2              2           9                  11          1   \n",
       "2       1         3              3           5                   5          1   \n",
       "3       1         4              4          10                  12          1   \n",
       "4       1         5              1          12                  14          1   \n",
       "\n",
       "   TotalDriverPoints DriverPosition  \n",
       "0                  0             \\N  \n",
       "1                  0             10  \n",
       "2                  3              6  \n",
       "3                  4              5  \n",
       "4                  0             \\N  "
      ]
     },
     "execution_count": 246,
     "metadata": {},
     "output_type": "execute_result"
    }
   ],
   "source": [
    "dataset_with_points = new_set\n",
    "dataset_with_points.to_csv('DataSetWithPoints.csv')\n",
    "dataset_with_points.head()"
   ]
  },
  {
   "cell_type": "code",
   "execution_count": 247,
   "metadata": {},
   "outputs": [
    {
     "data": {
      "text/plain": [
       "(3725, 8)"
      ]
     },
     "execution_count": 247,
     "metadata": {},
     "output_type": "execute_result"
    }
   ],
   "source": [
    "filterData = dataset_with_points[dataset_with_points['DriverPosition'] != '\\\\N']\n",
    "filterData.shape"
   ]
  },
  {
   "cell_type": "code",
   "execution_count": 258,
   "metadata": {},
   "outputs": [
    {
     "name": "stdout",
     "output_type": "stream",
     "text": [
      "Train Data: (3352, 7) and Test Data: (373, 7)\n"
     ]
    }
   ],
   "source": [
    "# REFERENCES: https://www.pluralsight.com/guides/importing-and-splitting-data-into-dependent-and-independent-features-for-ml\n",
    "X = filterData.iloc[:, :-1].values\n",
    "Y = filterData.iloc[:, -1].values\n",
    "X_train, X_test, Y_Train, Y_Test = train_test_split(X, Y, test_size=0.1)\n",
    "print(\"Train Data:\",X_train.shape,\"and Test Data:\",X_test.shape)"
   ]
  },
  {
   "cell_type": "code",
   "execution_count": 276,
   "metadata": {},
   "outputs": [],
   "source": [
    "from sklearn.linear_model import LogisticRegression\n",
    "from sklearn.model_selection import KFold\n",
    "from sklearn import metrics\n",
    "from sklearn.metrics import confusion_matrix"
   ]
  },
  {
   "cell_type": "code",
   "execution_count": 272,
   "metadata": {},
   "outputs": [
    {
     "name": "stderr",
     "output_type": "stream",
     "text": [
      "/Users/admin/opt/anaconda3/lib/python3.7/site-packages/sklearn/linear_model/logistic.py:432: FutureWarning: Default solver will be changed to 'lbfgs' in 0.22. Specify a solver to silence this warning.\n",
      "  FutureWarning)\n",
      "/Users/admin/opt/anaconda3/lib/python3.7/site-packages/sklearn/linear_model/logistic.py:469: FutureWarning: Default multi_class will be changed to 'auto' in 0.22. Specify the multi_class option to silence this warning.\n",
      "  \"this warning.\", FutureWarning)\n"
     ]
    }
   ],
   "source": [
    "lr_model = LogisticRegression()\n",
    "model = lr_model.fit(X_train, Y_Train)\n",
    "Y_pred = lr_model.predict(X_test)\n",
    "#print(Y_pred)"
   ]
  },
  {
   "cell_type": "code",
   "execution_count": 291,
   "metadata": {},
   "outputs": [
    {
     "name": "stdout",
     "output_type": "stream",
     "text": [
      "Misclassified samples: 311\n",
      "Accuracy: 0.17\n",
      "Accuracy: 0.00\n"
     ]
    }
   ],
   "source": [
    "count_misclassified = (Y_Test != Y_pred).sum()\n",
    "print('Misclassified samples: {}'.format(count_misclassified))\n",
    "accuracy = metrics.accuracy_score(Y_Test, Y_pred)\n",
    "print('Accuracy: {:.2f}'.format(accuracy))"
   ]
  },
  {
   "cell_type": "code",
   "execution_count": null,
   "metadata": {},
   "outputs": [],
   "source": [
    "from sklearn.tree import DecisionTreeClassifier \n",
    "dtree_model = DecisionTreeClassifier(max_depth = 2).fit(X_train, Y_Train) \n",
    "dtree_predictions = dtree_model.predict(X_test) \n",
    "\n",
    "count_misclassified = (Y_Test != dtree_predictions).sum()\n",
    "print('Misclassified samples: {}'.format(count_misclassified))\n",
    "accuracy = metrics.accuracy_score(Y_Test, dtree_predictions)\n",
    "print('Accuracy: {:.2f}'.format(accuracy))"
   ]
  },
  {
   "cell_type": "code",
   "execution_count": null,
   "metadata": {},
   "outputs": [],
   "source": [
    "from sklearn.svm import SVC \n",
    "svm_model_linear = SVC(kernel = 'linear', C = 1).fit(X_train, Y_Train) \n",
    "svm_predictions = svm_model_linear.predict(X_test) \n",
    "\n",
    "# model accuracy for X_test   \n",
    "accuracy = svm_model_linear.score(X_test, Y_Test)  \n",
    "print(\"Accuracy:\",accuracy)"
   ]
  },
  {
   "cell_type": "code",
   "execution_count": null,
   "metadata": {},
   "outputs": [],
   "source": [
    "from sklearn.neighbors import KNeighborsClassifier \n",
    "knn = KNeighborsClassifier(n_neighbors = 7).fit(X_train, y_train) \n",
    "  \n",
    "# accuracy on X_test \n",
    "accuracy = knn.score(X_test, Y_Test) \n",
    "print (accuracy) \n",
    " "
   ]
  },
  {
   "cell_type": "code",
   "execution_count": 293,
   "metadata": {},
   "outputs": [
    {
     "name": "stdout",
     "output_type": "stream",
     "text": [
      "0.17158176943699732\n"
     ]
    }
   ],
   "source": [
    "from sklearn.naive_bayes import GaussianNB \n",
    "gnb = GaussianNB().fit(X_train, Y_Train) \n",
    "gnb_predictions = gnb.predict(X_test) \n",
    "  \n",
    "# accuracy on X_test \n",
    "accuracy = gnb.score(X_test, Y_Test) \n",
    "print (accuracy) \n",
    "  "
   ]
  },
  {
   "cell_type": "code",
   "execution_count": null,
   "metadata": {},
   "outputs": [],
   "source": []
  },
  {
   "cell_type": "code",
   "execution_count": null,
   "metadata": {},
   "outputs": [],
   "source": []
  },
  {
   "cell_type": "code",
   "execution_count": null,
   "metadata": {},
   "outputs": [],
   "source": []
  },
  {
   "cell_type": "code",
   "execution_count": null,
   "metadata": {},
   "outputs": [],
   "source": []
  },
  {
   "cell_type": "code",
   "execution_count": null,
   "metadata": {},
   "outputs": [],
   "source": []
  }
 ],
 "metadata": {
  "kernelspec": {
   "display_name": "Python 3",
   "language": "python",
   "name": "python3"
  },
  "language_info": {
   "codemirror_mode": {
    "name": "ipython",
    "version": 3
   },
   "file_extension": ".py",
   "mimetype": "text/x-python",
   "name": "python",
   "nbconvert_exporter": "python",
   "pygments_lexer": "ipython3",
   "version": "3.7.4"
  }
 },
 "nbformat": 4,
 "nbformat_minor": 2
}
